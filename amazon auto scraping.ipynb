{
 "cells": [
  {
   "cell_type": "code",
   "execution_count": 1,
   "id": "c55fa81b",
   "metadata": {},
   "outputs": [],
   "source": [
    "from autoscraper import AutoScraper\n",
    "sc=AutoScraper()"
   ]
  },
  {
   "cell_type": "code",
   "execution_count": 2,
   "id": "21d522b0",
   "metadata": {},
   "outputs": [],
   "source": [
    "url='https://www.amazon.in/s?k=iphone&crid=1Q9FBAZBE10G4&sprefix=ipho%2Caps%2C565&ref=nb_sb_noss_2'\n",
    "wanted_list=['Apple iPhone 14 (128 GB) - Blue','69,900 ']"
   ]
  },
  {
   "cell_type": "code",
   "execution_count": 3,
   "id": "48b6d2a2",
   "metadata": {},
   "outputs": [
    {
     "data": {
      "text/plain": [
       "['Apple iPhone 14 (128 GB) - Starlight',\n",
       " 'Apple iPhone 14 (128 GB) - Purple',\n",
       " 'Apple iPhone 14 (128 GB) - Blue',\n",
       " '5s 16GB Original Smartphones Compatible Apple iPhone (Space Grey)',\n",
       " 'Apple iPhone 14 Pro Max (128 GB) - Space Black',\n",
       " 'Apple iPhone 14 Plus (128 GB) - Midnight',\n",
       " 'Apple iPhone 14 (128 GB) - Yellow',\n",
       " 'Apple iPhone 14 Plus (128 GB) - Yellow',\n",
       " 'Apple iPhone 14 Plus (128 GB) - Purple',\n",
       " 'Apple iPhone 12 (64GB) - Black',\n",
       " 'Apple iPhone 14 Plus (128 GB) - Blue',\n",
       " 'Apple iPhone 14 Plus (256 GB) - Blue',\n",
       " 'Apple iPhone 14 (256 GB) - Blue',\n",
       " 'Apple iPhone 14 (128 GB) - (Product) RED',\n",
       " 'Apple iPhone 14 Plus (128 GB) - Starlight',\n",
       " 'Apple iPhone 14 Plus (256 GB) - Yellow',\n",
       " '69,900',\n",
       " '10,999',\n",
       " '1,27,999',\n",
       " '79,999',\n",
       " '82,990',\n",
       " '53,999',\n",
       " '92,990',\n",
       " '70,999',\n",
       " '94,900']"
      ]
     },
     "execution_count": 3,
     "metadata": {},
     "output_type": "execute_result"
    }
   ],
   "source": [
    "data=sc.build(url,wanted_list)\n",
    "data"
   ]
  },
  {
   "cell_type": "code",
   "execution_count": 10,
   "id": "279e98a2",
   "metadata": {},
   "outputs": [
    {
     "data": {
      "text/plain": [
       "{'rule_0r5r': ['Apple iPhone 14 (128 GB) - Starlight',\n",
       "  'Apple iPhone 14 (128 GB) - Purple',\n",
       "  'Apple iPhone 14 (128 GB) - Blue',\n",
       "  '5s 16GB Original Smartphones Compatible Apple iPhone (Space Grey)',\n",
       "  'Apple iPhone 14 Pro Max (128 GB) - Space Black',\n",
       "  'Apple iPhone 14 Plus (128 GB) - Midnight',\n",
       "  'Apple iPhone 14 (128 GB) - Yellow',\n",
       "  'Apple iPhone 14 Plus (128 GB) - Yellow',\n",
       "  'Apple iPhone 14 Plus (128 GB) - Purple',\n",
       "  'Apple iPhone 12 (64GB) - Black',\n",
       "  'Apple iPhone 14 Plus (128 GB) - Blue',\n",
       "  'Apple iPhone 14 Plus (256 GB) - Blue',\n",
       "  'Apple iPhone 14 (256 GB) - Blue',\n",
       "  'Apple iPhone 14 (128 GB) - (Product) RED',\n",
       "  'Apple iPhone 14 Plus (128 GB) - Starlight',\n",
       "  'Apple iPhone 14 Plus (256 GB) - Yellow'],\n",
       " 'rule_kyfa': ['Apple iPhone 14 (128 GB) - Starlight',\n",
       "  'Apple iPhone 14 (128 GB) - Purple',\n",
       "  'Apple iPhone 14 (128 GB) - Blue',\n",
       "  '5s 16GB Original Smartphones Compatible Apple iPhone (Space Grey)',\n",
       "  'Apple iPhone 14 Pro Max (128 GB) - Space Black',\n",
       "  'Apple iPhone 14 Plus (128 GB) - Midnight',\n",
       "  'Apple iPhone 14 (128 GB) - Yellow',\n",
       "  'Apple iPhone 14 Plus (128 GB) - Yellow',\n",
       "  'Apple iPhone 14 Plus (128 GB) - Purple',\n",
       "  'Apple iPhone 12 (64GB) - Black',\n",
       "  'Apple iPhone 14 Plus (128 GB) - Blue',\n",
       "  'Apple iPhone 14 Plus (256 GB) - Blue',\n",
       "  'Apple iPhone 14 (256 GB) - Blue',\n",
       "  'Apple iPhone 14 (128 GB) - (Product) RED',\n",
       "  'Apple iPhone 14 Plus (128 GB) - Starlight',\n",
       "  'Apple iPhone 14 Plus (256 GB) - Yellow'],\n",
       " 'rule_g01p': ['Apple iPhone 14 (128 GB) - Blue',\n",
       "  'Apple iPhone 14 (128 GB) - Starlight'],\n",
       " 'rule_00is': ['Apple iPhone 14 (128 GB) - Blue',\n",
       "  'Apple iPhone 14 (128 GB) - Starlight'],\n",
       " 'rule_x9k1': ['69,900',\n",
       "  '69,900',\n",
       "  '69,900',\n",
       "  '10,999',\n",
       "  '1,27,999',\n",
       "  '79,999',\n",
       "  '69,900',\n",
       "  '82,990',\n",
       "  '79,999',\n",
       "  '53,999',\n",
       "  '79,999',\n",
       "  '92,990',\n",
       "  '82,990',\n",
       "  '70,999',\n",
       "  '79,999',\n",
       "  '94,900'],\n",
       " 'rule_2h97': ['69,900',\n",
       "  '69,900',\n",
       "  '69,900',\n",
       "  '10,999',\n",
       "  '1,27,999',\n",
       "  '79,999',\n",
       "  '69,900',\n",
       "  '82,990',\n",
       "  '79,999',\n",
       "  '53,999',\n",
       "  '79,999',\n",
       "  '92,990',\n",
       "  '82,990',\n",
       "  '70,999',\n",
       "  '79,999',\n",
       "  '94,900'],\n",
       " 'rule_ev00': ['69,900',\n",
       "  '69,900',\n",
       "  '69,900',\n",
       "  '10,999',\n",
       "  '1,27,999',\n",
       "  '79,999',\n",
       "  '69,900',\n",
       "  '82,990',\n",
       "  '79,999',\n",
       "  '53,999',\n",
       "  '79,999',\n",
       "  '92,990',\n",
       "  '82,990',\n",
       "  '70,999',\n",
       "  '79,999',\n",
       "  '94,900'],\n",
       " 'rule_10ez': ['69,900',\n",
       "  '69,900',\n",
       "  '69,900',\n",
       "  '10,999',\n",
       "  '1,27,999',\n",
       "  '79,999',\n",
       "  '69,900',\n",
       "  '82,990',\n",
       "  '79,999',\n",
       "  '53,999',\n",
       "  '79,999',\n",
       "  '92,990',\n",
       "  '82,990',\n",
       "  '70,999',\n",
       "  '79,999',\n",
       "  '94,900']}"
      ]
     },
     "execution_count": 10,
     "metadata": {},
     "output_type": "execute_result"
    }
   ],
   "source": [
    "data1=sc.get_result_similar(url,grouped=True)\n",
    "data1\n"
   ]
  },
  {
   "cell_type": "code",
   "execution_count": 34,
   "id": "79b1a84b",
   "metadata": {},
   "outputs": [],
   "source": [
    "#set the rules\n",
    "sc.set_rule_aliases({'rule_0r5r':'title','rule_x9k1':'price'})\n",
    "sc.keep_rules(['rule_0r5r','rule_x9k1'])\n",
    "sc.save('search')"
   ]
  },
  {
   "cell_type": "code",
   "execution_count": 16,
   "id": "ff70c72f",
   "metadata": {},
   "outputs": [
    {
     "data": {
      "text/plain": [
       "{'rule_0r5r': ['Apple iPhone 14 (128 GB) - Starlight',\n",
       "  'Apple iPhone 14 (128 GB) - Purple',\n",
       "  'Apple iPhone 14 (128 GB) - Blue',\n",
       "  '5s 16GB Original Smartphones Compatible Apple iPhone (Space Grey)',\n",
       "  'Apple iPhone 14 Pro Max (128 GB) - Space Black',\n",
       "  'Apple iPhone 14 Plus (128 GB) - Midnight',\n",
       "  'Apple iPhone 14 (128 GB) - Yellow',\n",
       "  'Apple iPhone 14 Plus (128 GB) - Yellow',\n",
       "  'Apple iPhone 14 Plus (128 GB) - Purple',\n",
       "  'Apple iPhone 12 (64GB) - Black',\n",
       "  'Apple iPhone 14 Plus (128 GB) - Blue',\n",
       "  'Apple iPhone 14 Plus (256 GB) - Blue',\n",
       "  'Apple iPhone 14 (256 GB) - Blue',\n",
       "  'Apple iPhone 14 (128 GB) - (Product) RED',\n",
       "  'Apple iPhone 14 Plus (128 GB) - Starlight',\n",
       "  'Apple iPhone 14 Plus (256 GB) - Yellow'],\n",
       " 'rule_x9k1': ['69,900',\n",
       "  '69,900',\n",
       "  '69,900',\n",
       "  '10,999',\n",
       "  '1,27,999',\n",
       "  '79,999',\n",
       "  '69,900',\n",
       "  '82,990',\n",
       "  '79,999',\n",
       "  '53,999',\n",
       "  '79,999',\n",
       "  '92,990',\n",
       "  '82,990',\n",
       "  '70,999',\n",
       "  '79,999',\n",
       "  '94,900']}"
      ]
     },
     "execution_count": 16,
     "metadata": {},
     "output_type": "execute_result"
    }
   ],
   "source": [
    "data2=sc.get_result_similar(url,grouped=True)\n",
    "data2"
   ]
  },
  {
   "cell_type": "code",
   "execution_count": 22,
   "id": "6c07cec4",
   "metadata": {},
   "outputs": [
    {
     "ename": "KeyError",
     "evalue": "'title'",
     "output_type": "error",
     "traceback": [
      "\u001b[1;31m---------------------------------------------------------------------------\u001b[0m",
      "\u001b[1;31mKeyError\u001b[0m                                  Traceback (most recent call last)",
      "\u001b[1;32m~\\AppData\\Local\\Temp\\ipykernel_11772\\2196524309.py\u001b[0m in \u001b[0;36m<module>\u001b[1;34m\u001b[0m\n\u001b[1;32m----> 1\u001b[1;33m \u001b[0mdata2\u001b[0m\u001b[1;33m[\u001b[0m\u001b[1;34m'title'\u001b[0m\u001b[1;33m]\u001b[0m\u001b[1;33m\u001b[0m\u001b[1;33m\u001b[0m\u001b[0m\n\u001b[0m",
      "\u001b[1;31mKeyError\u001b[0m: 'title'"
     ]
    }
   ],
   "source": [
    "data2['title']"
   ]
  },
  {
   "cell_type": "code",
   "execution_count": null,
   "id": "c3e63463",
   "metadata": {},
   "outputs": [],
   "source": [
    "\n",
    "df=pd.read_csv(data2,columns=data2.rule_fyet)"
   ]
  },
  {
   "cell_type": "code",
   "execution_count": 23,
   "id": "23aa2d00",
   "metadata": {},
   "outputs": [],
   "source": [
    "url2='https://www.amazon.in/s?crid=1KOOG6HMXLL4W&i=aps&k=oneplus&ref=nb_sb_noss_2&sprefix=one%2Caps%2C2740&url=search-alias%3Daps'"
   ]
  },
  {
   "cell_type": "code",
   "execution_count": 39,
   "id": "1298eb52",
   "metadata": {},
   "outputs": [
    {
     "data": {
      "text/plain": [
       "{'rule_0r5r': ['Best sellerin Electronics',\n",
       "  'OnePlus Nord CE 3 Lite 5G (Chromatic Gray, 8GB RAM, 128GB Storage)',\n",
       "  'OnePlus Bullets Z2 Bluetooth Wireless in Ear Earphones with Mic, Bombastic Bass - 12.4 mm Drivers, 10 Mins Charge - 20 Hrs Music, 30 Hrs Battery Life, IP55 Dust and Water Resistant (Magico Black)',\n",
       "  'OnePlus Nord CE 2 Lite 5G (Blue Tide, 6GB RAM, 128GB Storage)',\n",
       "  'OnePlus 11R 5G (Sonic Black, 16GB RAM, 256GB Storage)',\n",
       "  'OnePlus Nord CE 2 Lite 5G (Black Dusk, 6GB RAM, 128GB Storage)',\n",
       "  'OnePlus Nord Buds 2 True Wireless in Ear Earbuds with Mic, Upto 25dB ANC 12.4mm Dynamic Titanium Drivers, Playback:Upto 36hr case, 4-Mic Design, IP55 Rating, Fast Charging [Thunder Gray]',\n",
       "  'OnePlus 11R 5G (Sonic Black, 8GB RAM, 128GB Storage)',\n",
       "  'OnePlus 10R 5G (Sierra Black, 8GB RAM, 128GB Storage, 80W SuperVOOC)',\n",
       "  'OnePlus Bullets Z2 Bluetooth Wireless in Ear Earphones with Mic, Bombastic Bass, 10 Mins Charge - 20 Hrs Music, 30 Hrs Battery Life (Acoustic Red)',\n",
       "  'OnePlus Bullets Z2 Bluetooth Wireless in Ear Earphones with Mic, Bombastic Bass - 12.4 Mm Drivers, 10 Mins Charge - 20 Hrs Music, 30 Hrs Battery Life (Jazz Green)',\n",
       "  'OnePlus Nord Buds True Wireless in Ear Earbuds with Mic, 12.4mm Titanium Drivers, Playback:Up to 30hr case, 4-Mic Design + AI Noise Cancellation, IP55 Rating, Fast Charging (Blue Agate)',\n",
       "  'OnePlus Bullets Z2 Bluetooth Wireless in Ear Earphones with Mic, Bombastic Bass - 12.4 Mm Drivers, 10 Mins Charge - 20 Hrs Music, 30 Hrs Battery Life (Beam Blue)',\n",
       "  'OnePlus Nord 2T 5G (Gray Shadow, 8GB RAM, 128GB Storage)',\n",
       "  'OnePlus Nord Buds 2 True Wireless in Ear Earbuds with Mic, Upto 25dB ANC 12.4mm Dynamic Titanium Drivers, Playback:Upto 36hr case, 4-Mic Design, IP55 Rating, Fast Charging [Lightning White]',\n",
       "  'OnePlus Nord CE 3 Lite 5G (Pastel Lime, 8GB RAM, 128GB Storage)',\n",
       "  'OnePlus 11R 5G (Galactic Silver, 8GB RAM, 128GB Storage)'],\n",
       " 'rule_x9k1': ['19,999',\n",
       "  '1,999',\n",
       "  '17,999',\n",
       "  '44,999',\n",
       "  '17,999',\n",
       "  '2,999',\n",
       "  '39,999',\n",
       "  '34,999',\n",
       "  '1,999',\n",
       "  '1,999',\n",
       "  '2,799',\n",
       "  '1,999',\n",
       "  '28,999',\n",
       "  '2,999',\n",
       "  '19,999',\n",
       "  '39,999']}"
      ]
     },
     "execution_count": 39,
     "metadata": {},
     "output_type": "execute_result"
    }
   ],
   "source": [
    "da=sc.get_result_similar(url2,grouped=True)\n",
    "da"
   ]
  },
  {
   "cell_type": "code",
   "execution_count": 49,
   "id": "b7bd43d7",
   "metadata": {},
   "outputs": [],
   "source": [
    "sc.set_rule_aliases({'rule_0r5r':'Title','rule_x9k1':'Price'})\n",
    "sc.keep_rules(['rule_0r5r','rule_x9k1'])\n",
    "sc.save('amazon-new')"
   ]
  },
  {
   "cell_type": "code",
   "execution_count": 58,
   "id": "326b9e80",
   "metadata": {},
   "outputs": [],
   "source": [
    "sc.load('amazon-new')"
   ]
  },
  {
   "cell_type": "code",
   "execution_count": 72,
   "id": "467ad90b",
   "metadata": {},
   "outputs": [
    {
     "data": {
      "text/plain": [
       "{'Title': ['Best sellerin Electronics',\n",
       "  'OnePlus Nord CE 3 Lite 5G (Chromatic Gray, 8GB RAM, 128GB Storage)',\n",
       "  'OnePlus Bullets Z2 Bluetooth Wireless in Ear Earphones with Mic, Bombastic Bass - 12.4 mm Drivers, 10 Mins Charge - 20 Hrs Music, 30 Hrs Battery Life, IP55 Dust and Water Resistant (Magico Black)',\n",
       "  'OnePlus Nord CE 2 Lite 5G (Blue Tide, 6GB RAM, 128GB Storage)',\n",
       "  'OnePlus 11R 5G (Sonic Black, 16GB RAM, 256GB Storage)',\n",
       "  'OnePlus Nord CE 2 Lite 5G (Black Dusk, 6GB RAM, 128GB Storage)',\n",
       "  'OnePlus Nord Buds 2 True Wireless in Ear Earbuds with Mic, Upto 25dB ANC 12.4mm Dynamic Titanium Drivers, Playback:Upto 36hr case, 4-Mic Design, IP55 Rating, Fast Charging [Thunder Gray]',\n",
       "  'OnePlus 11R 5G (Sonic Black, 8GB RAM, 128GB Storage)',\n",
       "  'OnePlus 10R 5G (Sierra Black, 8GB RAM, 128GB Storage, 80W SuperVOOC)',\n",
       "  'OnePlus Bullets Z2 Bluetooth Wireless in Ear Earphones with Mic, Bombastic Bass, 10 Mins Charge - 20 Hrs Music, 30 Hrs Battery Life (Acoustic Red)',\n",
       "  'OnePlus Bullets Z2 Bluetooth Wireless in Ear Earphones with Mic, Bombastic Bass - 12.4 Mm Drivers, 10 Mins Charge - 20 Hrs Music, 30 Hrs Battery Life (Jazz Green)',\n",
       "  'OnePlus Nord Buds True Wireless in Ear Earbuds with Mic, 12.4mm Titanium Drivers, Playback:Up to 30hr case, 4-Mic Design + AI Noise Cancellation, IP55 Rating, Fast Charging (Blue Agate)',\n",
       "  'OnePlus Bullets Z2 Bluetooth Wireless in Ear Earphones with Mic, Bombastic Bass - 12.4 Mm Drivers, 10 Mins Charge - 20 Hrs Music, 30 Hrs Battery Life (Beam Blue)',\n",
       "  'OnePlus Nord 2T 5G (Gray Shadow, 8GB RAM, 128GB Storage)',\n",
       "  'OnePlus Nord Buds 2 True Wireless in Ear Earbuds with Mic, Upto 25dB ANC 12.4mm Dynamic Titanium Drivers, Playback:Upto 36hr case, 4-Mic Design, IP55 Rating, Fast Charging [Lightning White]',\n",
       "  'OnePlus Nord CE 3 Lite 5G (Pastel Lime, 8GB RAM, 128GB Storage)',\n",
       "  'OnePlus 11R 5G (Galactic Silver, 8GB RAM, 128GB Storage)'],\n",
       " 'Price': ['19,999',\n",
       "  '1,999',\n",
       "  '17,999',\n",
       "  '44,999',\n",
       "  '17,999',\n",
       "  '2,999',\n",
       "  '39,999',\n",
       "  '34,999',\n",
       "  '1,999',\n",
       "  '1,999',\n",
       "  '2,799',\n",
       "  '1,999',\n",
       "  '28,999',\n",
       "  '2,999',\n",
       "  '19,999',\n",
       "  '39,999']}"
      ]
     },
     "execution_count": 72,
     "metadata": {},
     "output_type": "execute_result"
    }
   ],
   "source": [
    "da=sc.get_result_similar(url2,group_by_alias=True)\n",
    "da"
   ]
  },
  {
   "cell_type": "code",
   "execution_count": 94,
   "id": "9c3e2b5f",
   "metadata": {},
   "outputs": [
    {
     "data": {
      "text/plain": [
       "['Best sellerin Electronics',\n",
       " 'OnePlus Nord CE 3 Lite 5G (Chromatic Gray, 8GB RAM, 128GB Storage)',\n",
       " 'OnePlus Bullets Z2 Bluetooth Wireless in Ear Earphones with Mic, Bombastic Bass - 12.4 mm Drivers, 10 Mins Charge - 20 Hrs Music, 30 Hrs Battery Life, IP55 Dust and Water Resistant (Magico Black)',\n",
       " 'OnePlus Nord CE 2 Lite 5G (Blue Tide, 6GB RAM, 128GB Storage)',\n",
       " 'OnePlus 11R 5G (Sonic Black, 16GB RAM, 256GB Storage)',\n",
       " 'OnePlus Nord CE 2 Lite 5G (Black Dusk, 6GB RAM, 128GB Storage)',\n",
       " 'OnePlus Nord Buds 2 True Wireless in Ear Earbuds with Mic, Upto 25dB ANC 12.4mm Dynamic Titanium Drivers, Playback:Upto 36hr case, 4-Mic Design, IP55 Rating, Fast Charging [Thunder Gray]',\n",
       " 'OnePlus 11R 5G (Sonic Black, 8GB RAM, 128GB Storage)',\n",
       " 'OnePlus 10R 5G (Sierra Black, 8GB RAM, 128GB Storage, 80W SuperVOOC)',\n",
       " 'OnePlus Bullets Z2 Bluetooth Wireless in Ear Earphones with Mic, Bombastic Bass, 10 Mins Charge - 20 Hrs Music, 30 Hrs Battery Life (Acoustic Red)',\n",
       " 'OnePlus Bullets Z2 Bluetooth Wireless in Ear Earphones with Mic, Bombastic Bass - 12.4 Mm Drivers, 10 Mins Charge - 20 Hrs Music, 30 Hrs Battery Life (Jazz Green)',\n",
       " 'OnePlus Nord Buds True Wireless in Ear Earbuds with Mic, 12.4mm Titanium Drivers, Playback:Up to 30hr case, 4-Mic Design + AI Noise Cancellation, IP55 Rating, Fast Charging (Blue Agate)',\n",
       " 'OnePlus Bullets Z2 Bluetooth Wireless in Ear Earphones with Mic, Bombastic Bass - 12.4 Mm Drivers, 10 Mins Charge - 20 Hrs Music, 30 Hrs Battery Life (Beam Blue)',\n",
       " 'OnePlus Nord 2T 5G (Gray Shadow, 8GB RAM, 128GB Storage)',\n",
       " 'OnePlus Nord Buds 2 True Wireless in Ear Earbuds with Mic, Upto 25dB ANC 12.4mm Dynamic Titanium Drivers, Playback:Upto 36hr case, 4-Mic Design, IP55 Rating, Fast Charging [Lightning White]',\n",
       " 'OnePlus Nord CE 3 Lite 5G (Pastel Lime, 8GB RAM, 128GB Storage)',\n",
       " 'OnePlus 11R 5G (Galactic Silver, 8GB RAM, 128GB Storage)']"
      ]
     },
     "execution_count": 94,
     "metadata": {},
     "output_type": "execute_result"
    }
   ],
   "source": [
    "da['Title']"
   ]
  },
  {
   "cell_type": "code",
   "execution_count": 96,
   "id": "9a5a3d18",
   "metadata": {},
   "outputs": [
    {
     "data": {
      "text/plain": [
       "['19,999',\n",
       " '1,999',\n",
       " '17,999',\n",
       " '44,999',\n",
       " '17,999',\n",
       " '2,999',\n",
       " '39,999',\n",
       " '34,999',\n",
       " '1,999',\n",
       " '1,999',\n",
       " '2,799',\n",
       " '1,999',\n",
       " '28,999',\n",
       " '2,999',\n",
       " '19,999',\n",
       " '39,999']"
      ]
     },
     "execution_count": 96,
     "metadata": {},
     "output_type": "execute_result"
    }
   ],
   "source": [
    "da['Price']"
   ]
  },
  {
   "cell_type": "code",
   "execution_count": null,
   "id": "c944c4ee",
   "metadata": {},
   "outputs": [],
   "source": []
  }
 ],
 "metadata": {
  "kernelspec": {
   "display_name": "Python 3 (ipykernel)",
   "language": "python",
   "name": "python3"
  },
  "language_info": {
   "codemirror_mode": {
    "name": "ipython",
    "version": 3
   },
   "file_extension": ".py",
   "mimetype": "text/x-python",
   "name": "python",
   "nbconvert_exporter": "python",
   "pygments_lexer": "ipython3",
   "version": "3.9.13"
  }
 },
 "nbformat": 4,
 "nbformat_minor": 5
}
